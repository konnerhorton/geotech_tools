{
 "cells": [
  {
   "cell_type": "code",
   "execution_count": 4,
   "metadata": {},
   "outputs": [
    {
     "data": {
      "text/plain": [
       "'c:\\\\Users\\\\khorton\\\\OneDrive - Aldea Services, LLC\\\\1-AREAS\\\\Git\\\\geotech_tools'"
      ]
     },
     "execution_count": 4,
     "metadata": {},
     "output_type": "execute_result"
    }
   ],
   "source": [
    "import pandas as pd\n",
    "from utilities.plots import *\n",
    "\n",
    "\n",
    "\n",
    "# trial = {\n",
    "# \"Sample ID\":\"BH-1\",\n",
    "# \"Test Number\":1,\n",
    "# \"Minor Principal Stress\":100,\n",
    "# \"Major Principal Stress\":400\n",
    "# }\n",
    "# trial['Minor Principal Stress']\n",
    "\n",
    "# df = pd.read_csv(\"data\\\\test.csv\")\n",
    "\n",
    "# df[df[\"Sample ID\"] == \"BH-1\"].to_dict(\"records\")[0]['Major Principal Stress']\n",
    "\n",
    "# plot_mohr_circles(df, 'BH-1')\n",
    "\n",
    "# df = pd.DataFrame(['BH-1', 'BH-2'], columns=['Sample ID'])\n",
    "\n",
    "# # df['Cohesion']\n",
    "# df.at[df.index[df['Sample ID']=='BH-1'].tolist()[0], 'Cohesion'] = 1\n",
    "\n",
    "# df\n",
    "\n",
    "import os\n",
    "os.getcwd()\n"
   ]
  }
 ],
 "metadata": {
  "kernelspec": {
   "display_name": "myenv",
   "language": "python",
   "name": "python3"
  },
  "language_info": {
   "codemirror_mode": {
    "name": "ipython",
    "version": 3
   },
   "file_extension": ".py",
   "mimetype": "text/x-python",
   "name": "python",
   "nbconvert_exporter": "python",
   "pygments_lexer": "ipython3",
   "version": "3.10.9"
  },
  "orig_nbformat": 4
 },
 "nbformat": 4,
 "nbformat_minor": 2
}
