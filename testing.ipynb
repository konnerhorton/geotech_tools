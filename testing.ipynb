{
 "cells": [
  {
   "cell_type": "code",
   "execution_count": 28,
   "metadata": {},
   "outputs": [
    {
     "data": {
      "text/html": [
       "<div>\n",
       "<style scoped>\n",
       "    .dataframe tbody tr th:only-of-type {\n",
       "        vertical-align: middle;\n",
       "    }\n",
       "\n",
       "    .dataframe tbody tr th {\n",
       "        vertical-align: top;\n",
       "    }\n",
       "\n",
       "    .dataframe thead th {\n",
       "        text-align: right;\n",
       "    }\n",
       "</style>\n",
       "<table border=\"1\" class=\"dataframe\">\n",
       "  <thead>\n",
       "    <tr style=\"text-align: right;\">\n",
       "      <th></th>\n",
       "      <th>Sample ID</th>\n",
       "      <th>Cohesion</th>\n",
       "    </tr>\n",
       "  </thead>\n",
       "  <tbody>\n",
       "    <tr>\n",
       "      <th>0</th>\n",
       "      <td>BH-1</td>\n",
       "      <td>1.0</td>\n",
       "    </tr>\n",
       "    <tr>\n",
       "      <th>1</th>\n",
       "      <td>BH-2</td>\n",
       "      <td>NaN</td>\n",
       "    </tr>\n",
       "  </tbody>\n",
       "</table>\n",
       "</div>"
      ],
      "text/plain": [
       "  Sample ID  Cohesion\n",
       "0      BH-1       1.0\n",
       "1      BH-2       NaN"
      ]
     },
     "execution_count": 28,
     "metadata": {},
     "output_type": "execute_result"
    }
   ],
   "source": [
    "import pandas as pd\n",
    "from utilities.plots import *\n",
    "\n",
    "\n",
    "\n",
    "# trial = {\n",
    "# \"Sample ID\":\"BH-1\",\n",
    "# \"Test Number\":1,\n",
    "# \"Minor Principal Stress\":100,\n",
    "# \"Major Principal Stress\":400\n",
    "# }\n",
    "# trial['Minor Principal Stress']\n",
    "\n",
    "# df = pd.read_csv(\"data\\\\test.csv\")\n",
    "\n",
    "# df[df[\"Sample ID\"] == \"BH-1\"].to_dict(\"records\")[0]['Major Principal Stress']\n",
    "\n",
    "# plot_mohr_circles(df, 'BH-1')\n",
    "\n",
    "df = pd.DataFrame(['BH-1', 'BH-2'], columns=['Sample ID'])\n",
    "\n",
    "# df['Cohesion']\n",
    "df.at[df.index[df['Sample ID']=='BH-1'].tolist()[0], 'Cohesion'] = 1\n",
    "\n",
    "df\n"
   ]
  }
 ],
 "metadata": {
  "kernelspec": {
   "display_name": "myenv",
   "language": "python",
   "name": "python3"
  },
  "language_info": {
   "codemirror_mode": {
    "name": "ipython",
    "version": 3
   },
   "file_extension": ".py",
   "mimetype": "text/x-python",
   "name": "python",
   "nbconvert_exporter": "python",
   "pygments_lexer": "ipython3",
   "version": "3.10.9"
  },
  "orig_nbformat": 4
 },
 "nbformat": 4,
 "nbformat_minor": 2
}
